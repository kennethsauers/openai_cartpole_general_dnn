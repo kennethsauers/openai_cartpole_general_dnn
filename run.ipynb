{
 "cells": [
  {
   "cell_type": "code",
   "execution_count": 1,
   "metadata": {
    "collapsed": true
   },
   "outputs": [],
   "source": [
    "import tflearn\n",
    "import main as dnn\n",
    "import numpy as np\n",
    "import gym\n",
    "import random"
   ]
  },
  {
   "cell_type": "code",
   "execution_count": 2,
   "metadata": {
    "collapsed": false
   },
   "outputs": [],
   "source": [
    "def play(env, num, agent):\n",
    "    score = 0\n",
    "    for _ in range(num):\n",
    "        env.reset()\n",
    "        prev_action,a,b,c = env.step(1)\n",
    "        prev_action = np.array(prev_action)\n",
    "        for _ in range(500):\n",
    "            #env.render()\n",
    "            prev_action = prev_action.reshape(1,-1)\n",
    "            action = agent.model.predict(prev_action)\n",
    "            action = np.array(action)\n",
    "            action = action.argmax()\n",
    "            observation, reward, done, info = env.step(action)\n",
    "            prev_action = np.array(observation)\n",
    "            score += reward\n",
    "            if done:\n",
    "                break\n",
    "    print(score/num)"
   ]
  },
  {
   "cell_type": "code",
   "execution_count": 3,
   "metadata": {
    "collapsed": false
   },
   "outputs": [],
   "source": [
    "def main(train = False):\n",
    "    env = gym.make(\"CartPole-v0\")\n",
    "    x= np.load('data_x.npy')\n",
    "    y = np.load('data_y.npy')\n",
    "    y = y.squeeze()\n",
    "    agent = dnn.agent( name ='cartpole', feature = x, label = y)\n",
    "    if train:\n",
    "        agent.train_for(3)\n",
    "        agent.saver()\n",
    "    agent.restore()\n",
    "    play(env, 10,agent)"
   ]
  },
  {
   "cell_type": "code",
   "execution_count": 4,
   "metadata": {
    "collapsed": false
   },
   "outputs": [
    {
     "name": "stderr",
     "output_type": "stream",
     "text": [
      "[2017-07-12 16:24:01,918] Making new env: CartPole-v0\n"
     ]
    },
    {
     "name": "stdout",
     "output_type": "stream",
     "text": [
      "INFO:tensorflow:Restoring parameters from /home/hedonist/Documents/openai_gdnnc/cartpole/model_save\n"
     ]
    },
    {
     "name": "stderr",
     "output_type": "stream",
     "text": [
      "[2017-07-12 16:24:02,771] Restoring parameters from /home/hedonist/Documents/openai_gdnnc/cartpole/model_save\n"
     ]
    },
    {
     "name": "stdout",
     "output_type": "stream",
     "text": [
      "187.3\n"
     ]
    }
   ],
   "source": [
    "if __name__ =='__main__':\n",
    "    main()"
   ]
  },
  {
   "cell_type": "code",
   "execution_count": null,
   "metadata": {
    "collapsed": true
   },
   "outputs": [],
   "source": []
  }
 ],
 "metadata": {
  "anaconda-cloud": {},
  "kernelspec": {
   "display_name": "Python [conda root]",
   "language": "python",
   "name": "conda-root-py"
  },
  "language_info": {
   "codemirror_mode": {
    "name": "ipython",
    "version": 3
   },
   "file_extension": ".py",
   "mimetype": "text/x-python",
   "name": "python",
   "nbconvert_exporter": "python",
   "pygments_lexer": "ipython3",
   "version": "3.5.2"
  }
 },
 "nbformat": 4,
 "nbformat_minor": 2
}
